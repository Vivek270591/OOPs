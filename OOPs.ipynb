{
  "nbformat": 4,
  "nbformat_minor": 0,
  "metadata": {
    "colab": {
      "provenance": []
    },
    "kernelspec": {
      "name": "python3",
      "display_name": "Python 3"
    },
    "language_info": {
      "name": "python"
    }
  },
  "cells": [
    {
      "cell_type": "code",
      "execution_count": null,
      "metadata": {
        "id": "ac60n42mHFhk"
      },
      "outputs": [],
      "source": []
    },
    {
      "cell_type": "markdown",
      "source": [
        "#1. What is Object-Oriented Programming (OOP)?\n",
        "Object-Oriented Programming (OOP) is a programming paradigm that uses \"objects\" to model real-world entities. It helps structure code into reusable and logical units, using principles like encapsulation, inheritance, abstraction, and polymorphism.\n",
        "#2. What is a class in OOP?\n",
        "A class is a blueprint for creating objects. It defines a set of attributes and methods that the created objects (instances) will have.\n",
        "\n",
        "\n",
        "class Car:\n",
        "    def __init__(self, brand):\n",
        "        self.brand = brand\n",
        "\n",
        "#3. What is an object in OOP?\n",
        "An object is an instance of a class. It contains the actual values for the attributes defined in the class.\n",
        "\n",
        "\n",
        "my_car = Car(\"Toyota\")\n",
        "\n",
        "#4. What is the difference between abstraction and encapsulation?\n",
        "- Abstraction hides complexity by showing only essential features.\n",
        "- Encapsulation hides internal data by wrapping it in classes and restricting direct access.\n",
        "#5. What are dunder methods in Python?\n",
        "Dunder methods (double underscore methods) are special methods like `__init__`, `__str__`, `__len__`, etc., that allow customization of class behavior.\n",
        "#6. Explain the concept of inheritance in OOP.\n",
        "Inheritance allows one class (child) to inherit attributes and methods from another (parent) class.\n",
        "\n",
        "class Animal:\n",
        "    def speak(self):\n",
        "        print(\"Animal sound\")\n",
        "\n",
        "class Dog(Animal):\n",
        "    def speak(self):\n",
        "        print(\"Bark\")\n",
        "\n",
        "#7. What is polymorphism in OOP?\n",
        "Polymorphism allows different classes to define methods with the same name but different behaviors.\n",
        "\n",
        "\n",
        "for animal in [Dog(), Cat()]:\n",
        "    animal.speak()  # Each class has its own version of speak()\n",
        "\n",
        "#8. How is encapsulation achieved in Python?\n",
        "Encapsulation is done by using private/protected variables and accessing them via methods.\n",
        "\n",
        "class Person:\n",
        "    def __init__(self):\n",
        "        self.__age = 0\n",
        "\n",
        "    def set_age(self, age):\n",
        "        self.__age = age\n",
        "\n",
        "#9. What is a constructor in Python?\n",
        "A constructor is a special method `__init__` that initializes new object instances.\n",
        "#10. What are class and static methods in Python?\n",
        "- Class methods use `@classmethod` and take `cls` as the first parameter.\n",
        "- Static methods use `@staticmethod` and don’t access class or instance data.\n",
        "#11. What is method overloading in Python?\n",
        "Python does not support traditional method overloading. But you can achieve similar functionality using default arguments or `*args`.\n",
        "#12. What is method overriding in OOP?\n",
        "Method overriding is when a subclass provides a specific implementation of a method already defined in its superclass.\n",
        "#13. What is a property decorator in Python?\n",
        "The `@property` decorator allows a method to be accessed like an attribute.\n",
        "\n",
        "\n",
        "class Circle:\n",
        "    def __init__(self, radius):\n",
        "        self._radius = radius\n",
        "\n",
        "    @property\n",
        "    def area(self):\n",
        "        return 3.14 * self._radius ** 2\n",
        "\n",
        "#14. Why is polymorphism important in OOP?\n",
        "Polymorphism enables code reusability and flexibility by allowing different objects to be treated as instances of the same class through a common interface.\n",
        "#15. What is an abstract class in Python?\n",
        "An abstract class cannot be instantiated and may contain abstract methods. It’s defined using the `abc` module.\n",
        "#16. What are the advantages of OOP?\n",
        "- Code reusability\n",
        "- Modularity\n",
        "- Easy maintenance\n",
        "- Real-world modeling\n",
        "- Scalability\n",
        "#17. What is the difference between a class variable and an instance variable?\n",
        "- Class variable: Shared across all instances.\n",
        "- Instance variable: Unique to each instance.\n",
        "#18. What is multiple inheritance in Python?\n",
        "Multiple inheritance allows a class to inherit from more than one parent class.\n",
        "\n",
        "class A: pass\n",
        "class B: pass\n",
        "class C(A, B): pass\n",
        "\n",
        "#19. Explain the purpose of `__str__` and `__repr__` methods in Python.\n",
        "- `__str__`: User-friendly string representation.\n",
        "- `__repr__`: Developer-friendly representation, often used for debugging.\n",
        "#20. What is the significance of the `super()` function in Python?\n",
        "`super()` is used to call methods from the parent class, especially useful in inheritance.\n",
        "#21. What is the significance of the `__del__` method in Python?\n",
        "The `__del__` method is called when an object is about to be destroyed. It’s used for cleanup.\n",
        "#22. What is the difference between `@staticmethod` and `@classmethod` in Python?\n",
        "- `@staticmethod`: No access to class or instance.\n",
        "- `@classmethod`: Access to the class (`cls`), not the instance.\n",
        "#23. How does polymorphism work in Python with inheritance?\n",
        "Child classes override methods from parent classes. When accessed through a parent class reference, the child class method gets called.\n",
        "#24. What is method chaining in Python OOP?\n",
        "Method chaining is calling multiple methods on an object in a single line by returning `self` from each method.\n",
        "\n",
        "\n",
        "class Builder:\n",
        "    def set_name(self, name): self.name = name; return self\n",
        "    def set_age(self, age): self.age = age; return self\n",
        "\n",
        "b = Builder().set_name(\"Alice\").set_age(25)\n",
        "\n",
        "#25. What is the purpose of the `__call__` method in Python?\n",
        "The `__call__` method makes an object callable like a function.\n",
        "\n",
        "\n",
        "class Greeter:\n",
        "    def __call__(self, name):\n",
        "        print(f\"Hello, {name}!\")\n",
        "\n",
        "greet = Greeter()\n",
        "greet(\"John\")\n",
        "\n"
      ],
      "metadata": {
        "id": "Km05bL7XHMjK"
      }
    },
    {
      "cell_type": "code",
      "source": [
        "#1. Create a parent class Animal with a method speak() that prints a generic message. Create a child class Dog that overrides the speak() method to print \"Bark!\".\n",
        "class Animal:\n",
        "    def speak(self):\n",
        "        print(\"Animal makes a sound\")\n",
        "\n",
        "class Dog(Animal):\n",
        "    def speak(self):\n",
        "        print(\"Bark!\")\n",
        "\n",
        "# Example\n",
        "dog = Dog()\n",
        "dog.speak()"
      ],
      "metadata": {
        "colab": {
          "base_uri": "https://localhost:8080/"
        },
        "id": "W6GtqilAOAIT",
        "outputId": "37dba479-8705-4acd-d6d9-2f62b41f05df"
      },
      "execution_count": null,
      "outputs": [
        {
          "output_type": "stream",
          "name": "stdout",
          "text": [
            "Bark!\n"
          ]
        }
      ]
    },
    {
      "cell_type": "code",
      "source": [
        "#2. Write a program to create an abstract class Shape with a method area(). Derive classes Circle and Rectangle from it and implement the area() method in both.\n",
        "\n",
        "from abc import ABC, abstractmethod\n",
        "import math\n",
        "\n",
        "class Shape(ABC):\n",
        "    @abstractmethod\n",
        "    def area(self):\n",
        "        pass\n",
        "\n",
        "class Circle(Shape):\n",
        "    def __init__(self, radius):\n",
        "        self.radius = radius\n",
        "\n",
        "    def area(self):\n",
        "        return math.pi * self.radius ** 2\n",
        "\n",
        "class Rectangle(Shape):\n",
        "    def __init__(self, width, height):\n",
        "        self.width = width\n",
        "        self.height = height\n",
        "\n",
        "    def area(self):\n",
        "        return self.width * self.height\n",
        "\n",
        "# Example\n",
        "circle = Circle(5)\n",
        "print(circle.area())\n",
        "\n",
        "rectangle = Rectangle(4, 5)\n",
        "print(rectangle.area())\n"
      ],
      "metadata": {
        "colab": {
          "base_uri": "https://localhost:8080/"
        },
        "id": "TqeQ6z9lOG9T",
        "outputId": "61fabf5c-7141-494c-a2b8-d46771c3e901"
      },
      "execution_count": null,
      "outputs": [
        {
          "output_type": "stream",
          "name": "stdout",
          "text": [
            "78.53981633974483\n",
            "20\n"
          ]
        }
      ]
    },
    {
      "cell_type": "code",
      "source": [
        "#3. Implement a multi-level inheritance scenario where a class Vehicle has an attribute type. Derive a class Car and further derive a class ElectricCar that adds a battery attribute.\n",
        "class Vehicle:\n",
        "    def __init__(self, type):\n",
        "        self.type = type\n",
        "\n",
        "class Car(Vehicle):\n",
        "    def __init__(self, type, brand):\n",
        "        super().__init__(type)\n",
        "        self.brand = brand\n",
        "\n",
        "class ElectricCar(Car):\n",
        "    def __init__(self, type, brand, battery):\n",
        "        super().__init__(type, brand)\n",
        "        self.battery = battery\n",
        "\n",
        "# Example\n",
        "ecar = ElectricCar(\"Four Wheeler\", \"Tesla\", \"100 kWh\")\n",
        "print(ecar.type, ecar.brand, ecar.battery)\n",
        "\n"
      ],
      "metadata": {
        "colab": {
          "base_uri": "https://localhost:8080/"
        },
        "id": "RKjHogewOcq8",
        "outputId": "2c0e20e3-383c-4160-e5de-ae3609368e26"
      },
      "execution_count": null,
      "outputs": [
        {
          "output_type": "stream",
          "name": "stdout",
          "text": [
            "Four Wheeler Tesla 100 kWh\n"
          ]
        }
      ]
    },
    {
      "cell_type": "code",
      "source": [
        "# 4. Demonstrate polymorphism by creating a base class Bird with a method fly(). Create two derived classes Sparrow and Penguin that override the fly() method.\n",
        "class Bird:\n",
        "    def fly(self):\n",
        "        print(\"Bird can fly\")\n",
        "\n",
        "class Sparrow(Bird):\n",
        "    def fly(self):\n",
        "        print(\"Sparrow flies high\")\n",
        "\n",
        "class Penguin(Bird):\n",
        "    def fly(self):\n",
        "        print(\"Penguins cannot fly\")\n",
        "\n",
        "# Example\n",
        "birds = [Sparrow(), Penguin()]\n",
        "for bird in birds:\n",
        "    bird.fly()\n"
      ],
      "metadata": {
        "colab": {
          "base_uri": "https://localhost:8080/"
        },
        "id": "7SPExeLYOkfL",
        "outputId": "1fdacedc-2442-42aa-b58f-7912e0be9bf0"
      },
      "execution_count": null,
      "outputs": [
        {
          "output_type": "stream",
          "name": "stdout",
          "text": [
            "Sparrow flies high\n",
            "Penguins cannot fly\n"
          ]
        }
      ]
    },
    {
      "cell_type": "code",
      "source": [
        "#5. Write a program to demonstrate encapsulation by creating a class BankAccount with private attributes balance and methods to deposit, withdraw, and check balance.\n",
        "class BankAccount:\n",
        "    def __init__(self):\n",
        "        self.__balance = 0\n",
        "\n",
        "    def deposit(self, amount):\n",
        "        self.__balance += amount\n",
        "\n",
        "    def withdraw(self, amount):\n",
        "        if amount <= self.__balance:\n",
        "            self.__balance -= amount\n",
        "        else:\n",
        "            print(\"Insufficient balance\")\n",
        "\n",
        "    def check_balance(self):\n",
        "        return self.__balance\n",
        "\n",
        "# Example\n",
        "acc = BankAccount()\n",
        "acc.deposit(1000)\n",
        "acc.withdraw(300)\n",
        "print(acc.check_balance())\n"
      ],
      "metadata": {
        "colab": {
          "base_uri": "https://localhost:8080/"
        },
        "id": "WaqTXpGdO8ID",
        "outputId": "ef048fd6-2e87-4573-bf29-486b0f1a2de1"
      },
      "execution_count": null,
      "outputs": [
        {
          "output_type": "stream",
          "name": "stdout",
          "text": [
            "700\n"
          ]
        }
      ]
    },
    {
      "cell_type": "code",
      "source": [
        "#6. Demonstrate runtime polymorphism using a method play() in a base class Instrument. Derive classes Guitar and Piano that implement their own version of play().\n",
        "class Instrument:\n",
        "    def play(self):\n",
        "        print(\"Playing instrument\")\n",
        "\n",
        "class Guitar(Instrument):\n",
        "    def play(self):\n",
        "        print(\"Playing guitar\")\n",
        "\n",
        "class Piano(Instrument):\n",
        "    def play(self):\n",
        "        print(\"Playing piano\")\n",
        "\n",
        "# Example\n",
        "instruments = [Guitar(), Piano()]\n",
        "for inst in instruments:\n",
        "    inst.play()\n"
      ],
      "metadata": {
        "colab": {
          "base_uri": "https://localhost:8080/"
        },
        "id": "xIiqeb5HPFOD",
        "outputId": "d57ebf19-9b29-493e-eadf-e5ab30afb1fa"
      },
      "execution_count": null,
      "outputs": [
        {
          "output_type": "stream",
          "name": "stdout",
          "text": [
            "Playing guitar\n",
            "Playing piano\n"
          ]
        }
      ]
    },
    {
      "cell_type": "code",
      "source": [
        "#7. Create a class MathOperations with a class method add_numbers() to add two numbers and a static method subtract_numbers() to subtract two numbers.\n",
        "class MathOperations:\n",
        "    @classmethod\n",
        "    def add_numbers(cls, a, b):\n",
        "        return a + b\n",
        "\n",
        "    @staticmethod\n",
        "    def subtract_numbers(a, b):\n",
        "        return a - b\n",
        "\n",
        "# Example\n",
        "print(MathOperations.add_numbers(5, 3))\n",
        "print(MathOperations.subtract_numbers(5, 3))\n"
      ],
      "metadata": {
        "colab": {
          "base_uri": "https://localhost:8080/"
        },
        "id": "jNdQjUVpPNWz",
        "outputId": "fbdb721a-21d0-46a8-aac4-9b996c11a3b4"
      },
      "execution_count": null,
      "outputs": [
        {
          "output_type": "stream",
          "name": "stdout",
          "text": [
            "8\n",
            "2\n"
          ]
        }
      ]
    },
    {
      "cell_type": "code",
      "source": [
        "#8. Implement a class Person with a class method to count the total number of persons created.\n",
        "class Person:\n",
        "    count = 0\n",
        "\n",
        "    def __init__(self, name):\n",
        "        self.name = name\n",
        "        Person.count += 1\n",
        "\n",
        "    @classmethod\n",
        "    def get_count(cls):\n",
        "        return cls.count\n",
        "\n",
        "# Example\n",
        "p1 = Person(\"Alice\")\n",
        "p2 = Person(\"Bob\")\n",
        "print(Person.get_count())\n"
      ],
      "metadata": {
        "colab": {
          "base_uri": "https://localhost:8080/"
        },
        "id": "o10tLQ9cRZXM",
        "outputId": "48322dee-1cc7-489d-f09c-edeac6d19706"
      },
      "execution_count": null,
      "outputs": [
        {
          "output_type": "stream",
          "name": "stdout",
          "text": [
            "2\n"
          ]
        }
      ]
    },
    {
      "cell_type": "code",
      "source": [
        "#9. Write a class Fraction with attributes numerator and denominator. Override the str method to display the fraction as \"numerator/denominator\".\n",
        "class Fraction:\n",
        "    def __init__(self, numerator, denominator):\n",
        "        self.numerator = numerator\n",
        "        self.denominator = denominator\n",
        "\n",
        "    def __str__(self):\n",
        "        return f\"{self.numerator}/{self.denominator}\"\n",
        "\n",
        "# Example\n",
        "f = Fraction(3, 4)\n",
        "print(f)\n"
      ],
      "metadata": {
        "colab": {
          "base_uri": "https://localhost:8080/"
        },
        "id": "qP-CQt5qRnqs",
        "outputId": "1c55e87d-d6b4-4085-d5ed-912cbb4c9b55"
      },
      "execution_count": null,
      "outputs": [
        {
          "output_type": "stream",
          "name": "stdout",
          "text": [
            "3/4\n"
          ]
        }
      ]
    },
    {
      "cell_type": "code",
      "source": [
        "#10. Demonstrate operator overloading by creating a class Vector and overriding the add method to add two vectors.\n",
        "class Vector:\n",
        "    def __init__(self, x, y):\n",
        "        self.x = x\n",
        "        self.y = y\n",
        "\n",
        "    def __add__(self, other):\n",
        "        return Vector(self.x + other.x, self.y + other.y)\n",
        "\n",
        "    def __str__(self):\n",
        "        return f\"Vector({self.x}, {self.y})\"\n",
        "\n",
        "# Example\n",
        "v1 = Vector(2, 3)\n",
        "v2 = Vector(1, 4)\n",
        "print(v1 + v2)\n",
        "\n"
      ],
      "metadata": {
        "colab": {
          "base_uri": "https://localhost:8080/"
        },
        "id": "URPd4w9RRt-D",
        "outputId": "0438f09d-a371-4078-8280-3989255817a7"
      },
      "execution_count": null,
      "outputs": [
        {
          "output_type": "stream",
          "name": "stdout",
          "text": [
            "Vector(3, 7)\n"
          ]
        }
      ]
    },
    {
      "cell_type": "code",
      "source": [
        "#11. Create a class Person with attributes name and age. Add a method greet() that prints \"Hello, my name is {name} and I am {age} years old.\"\n",
        "class Person:\n",
        "    def __init__(self, name, age):\n",
        "        self.name = name\n",
        "        self.age = age\n",
        "\n",
        "    def greet(self):\n",
        "        print(f\"Hello, my name is {self.name} and I am {self.age} years old.\")\n",
        "\n",
        "# Example\n",
        "p = Person(\"John\", 25)\n",
        "p.greet()\n"
      ],
      "metadata": {
        "colab": {
          "base_uri": "https://localhost:8080/"
        },
        "id": "eUJtj55LR-1d",
        "outputId": "12a8a037-873d-41d2-d3a6-5ad1239608b9"
      },
      "execution_count": null,
      "outputs": [
        {
          "output_type": "stream",
          "name": "stdout",
          "text": [
            "Hello, my name is John and I am 25 years old.\n"
          ]
        }
      ]
    },
    {
      "cell_type": "code",
      "source": [
        "#12. Implement a class Student with attributes name and grades. Create a method average_grade() to compute the average of the grades.\n",
        "class Student:\n",
        "    def __init__(self, name, grades):\n",
        "        self.name = name\n",
        "        self.grades = grades\n",
        "\n",
        "    def average_grade(self):\n",
        "        return sum(self.grades) / len(self.grades)\n",
        "\n",
        "# Example\n",
        "s = Student(\"Alice\", [90, 80, 85])\n",
        "print(s.average_grade())\n"
      ],
      "metadata": {
        "colab": {
          "base_uri": "https://localhost:8080/"
        },
        "id": "1Fc8EHcRSDt0",
        "outputId": "40b26d0a-a914-4288-db3f-21efe73175f0"
      },
      "execution_count": null,
      "outputs": [
        {
          "output_type": "stream",
          "name": "stdout",
          "text": [
            "85.0\n"
          ]
        }
      ]
    },
    {
      "cell_type": "code",
      "source": [
        "#13. Create a class Rectangle with methods set_dimensions() to set the dimensions and area() to calculate the area.\n",
        "class Rectangle:\n",
        "    def set_dimensions(self, width, height):\n",
        "        self.width = width\n",
        "        self.height = height\n",
        "\n",
        "    def area(self):\n",
        "        return self.width * self.height\n",
        "\n",
        "# Example\n",
        "r = Rectangle()\n",
        "r.set_dimensions(4, 5)\n",
        "print(r.area())\n"
      ],
      "metadata": {
        "colab": {
          "base_uri": "https://localhost:8080/"
        },
        "id": "14B3EykoSH-E",
        "outputId": "75c9df9d-637b-4de6-cf9e-896d0959c38a"
      },
      "execution_count": null,
      "outputs": [
        {
          "output_type": "stream",
          "name": "stdout",
          "text": [
            "20\n"
          ]
        }
      ]
    },
    {
      "cell_type": "code",
      "source": [
        "#14. Create a class Employee with a method calculate_salary() that computes the salary based on hours worked and hourly rate. Create a derived class Manager that adds a bonus to the salary.\n",
        "class Employee:\n",
        "    def calculate_salary(self, hours, rate):\n",
        "        return hours * rate\n",
        "\n",
        "class Manager(Employee):\n",
        "    def calculate_salary(self, hours, rate, bonus=0):\n",
        "        base = super().calculate_salary(hours, rate)\n",
        "        return base + bonus\n",
        "\n",
        "# Example\n",
        "m = Manager()\n",
        "print(m.calculate_salary(40, 50, 200))\n",
        "\n"
      ],
      "metadata": {
        "colab": {
          "base_uri": "https://localhost:8080/"
        },
        "id": "NxyBterXSMyb",
        "outputId": "d493ab15-3bb8-4858-bd9b-6964880e80d4"
      },
      "execution_count": null,
      "outputs": [
        {
          "output_type": "stream",
          "name": "stdout",
          "text": [
            "2200\n"
          ]
        }
      ]
    },
    {
      "cell_type": "code",
      "source": [
        "#15. Create a class Product with attributes name, price, and quantity. Implement a method total_price() that calculates the total price of the product.\n",
        "class Product:\n",
        "    def __init__(self, name, price, quantity):\n",
        "        self.name = name\n",
        "        self.price = price\n",
        "        self.quantity = quantity\n",
        "\n",
        "    def total_price(self):\n",
        "        return self.price * self.quantity\n",
        "\n",
        "# Example\n",
        "p = Product(\"Laptop\", 1000, 3)\n",
        "print(p.total_price())\n"
      ],
      "metadata": {
        "colab": {
          "base_uri": "https://localhost:8080/"
        },
        "id": "fb_Yr_sPSSmz",
        "outputId": "80118541-a98a-435d-8b2f-115d2a672a51"
      },
      "execution_count": null,
      "outputs": [
        {
          "output_type": "stream",
          "name": "stdout",
          "text": [
            "3000\n"
          ]
        }
      ]
    },
    {
      "cell_type": "code",
      "source": [
        "#16. Create a class Animal with an abstract method sound(). Create two derived classes Cow and Sheep that implement the sound() method.\n",
        "from abc import ABC, abstractmethod\n",
        "\n",
        "class Animal(ABC):\n",
        "    @abstractmethod\n",
        "    def sound(self):\n",
        "        pass\n",
        "\n",
        "class Cow(Animal):\n",
        "    def sound(self):\n",
        "        print(\"Moo\")\n",
        "\n",
        "class Sheep(Animal):\n",
        "    def sound(self):\n",
        "        print(\"Baa\")\n",
        "\n",
        "# Example\n",
        "Cow().sound()\n",
        "Sheep().sound()\n"
      ],
      "metadata": {
        "colab": {
          "base_uri": "https://localhost:8080/"
        },
        "id": "B7SYCHu3Sats",
        "outputId": "60a1f800-13a8-4a74-ba23-69738b595b4b"
      },
      "execution_count": null,
      "outputs": [
        {
          "output_type": "stream",
          "name": "stdout",
          "text": [
            "Moo\n",
            "Baa\n"
          ]
        }
      ]
    },
    {
      "cell_type": "code",
      "source": [
        "#17. Create a class Book with attributes title, author, and year_published. Add a method get_book_info() that returns a formatted string with the book's details.\n",
        "class Book:\n",
        "    def __init__(self, title, author, year_published):\n",
        "        self.title = title\n",
        "        self.author = author\n",
        "        self.year_published = year_published\n",
        "\n",
        "    def get_book_info(self):\n",
        "        return f\"{self.title} by {self.author} ({self.year_published})\"\n",
        "\n",
        "# Example\n",
        "b = Book(\"1984\", \"George Orwell\", 1949)\n",
        "print(b.get_book_info())\n"
      ],
      "metadata": {
        "colab": {
          "base_uri": "https://localhost:8080/"
        },
        "id": "2X6BAPFVSlnz",
        "outputId": "9e427672-1a88-4568-fe91-b941d75f7fcb"
      },
      "execution_count": null,
      "outputs": [
        {
          "output_type": "stream",
          "name": "stdout",
          "text": [
            "1984 by George Orwell (1949)\n"
          ]
        }
      ]
    },
    {
      "cell_type": "code",
      "source": [
        "#18. Create a class House with attributes address and price. Create a derived class Mansion that adds an attribute number_of_rooms.\n",
        "class House:\n",
        "    def __init__(self, address, price):\n",
        "        self.address = address\n",
        "        self.price = price\n",
        "\n",
        "class Mansion(House):\n",
        "    def __init__(self, address, price, number_of_rooms):\n",
        "        super().__init__(address, price)\n",
        "        self.number_of_rooms = number_of_rooms\n",
        "\n",
        "# Example\n",
        "m = Mansion(\"123 Rich St\", 5000000, 10)\n",
        "print(m.address, m.price, m.number_of_rooms)\n"
      ],
      "metadata": {
        "colab": {
          "base_uri": "https://localhost:8080/"
        },
        "id": "YZ1-Ux8cSrxL",
        "outputId": "69aa1f16-72dd-4663-df18-a96048ac48b3"
      },
      "execution_count": null,
      "outputs": [
        {
          "output_type": "stream",
          "name": "stdout",
          "text": [
            "123 Rich St 5000000 10\n"
          ]
        }
      ]
    }
  ]
}